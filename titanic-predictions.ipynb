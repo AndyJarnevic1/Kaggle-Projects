{
 "cells": [
  {
   "cell_type": "code",
   "execution_count": 1,
   "id": "f57d2806",
   "metadata": {
    "_cell_guid": "b1076dfc-b9ad-4769-8c92-a6c4dae69d19",
    "_uuid": "8f2839f25d086af736a60e9eeb907d3b93b6e0e5",
    "execution": {
     "iopub.execute_input": "2023-11-17T20:10:03.814798Z",
     "iopub.status.busy": "2023-11-17T20:10:03.814241Z",
     "iopub.status.idle": "2023-11-17T20:10:04.897596Z",
     "shell.execute_reply": "2023-11-17T20:10:04.895442Z"
    },
    "papermill": {
     "duration": 1.098741,
     "end_time": "2023-11-17T20:10:04.901000",
     "exception": false,
     "start_time": "2023-11-17T20:10:03.802259",
     "status": "completed"
    },
    "tags": []
   },
   "outputs": [
    {
     "name": "stdout",
     "output_type": "stream",
     "text": [
      "/kaggle/input/titanic/train.csv\n",
      "/kaggle/input/titanic/test.csv\n",
      "/kaggle/input/titanic/gender_submission.csv\n",
      "891\n"
     ]
    },
    {
     "data": {
      "text/plain": [
       "PassengerId      0\n",
       "Survived         0\n",
       "Pclass           0\n",
       "Name             0\n",
       "Sex              0\n",
       "Age            177\n",
       "SibSp            0\n",
       "Parch            0\n",
       "Ticket           0\n",
       "Fare             0\n",
       "Cabin          687\n",
       "Embarked         2\n",
       "dtype: int64"
      ]
     },
     "metadata": {},
     "output_type": "display_data"
    },
    {
     "data": {
      "text/html": [
       "<div>\n",
       "<style scoped>\n",
       "    .dataframe tbody tr th:only-of-type {\n",
       "        vertical-align: middle;\n",
       "    }\n",
       "\n",
       "    .dataframe tbody tr th {\n",
       "        vertical-align: top;\n",
       "    }\n",
       "\n",
       "    .dataframe thead th {\n",
       "        text-align: right;\n",
       "    }\n",
       "</style>\n",
       "<table border=\"1\" class=\"dataframe\">\n",
       "  <thead>\n",
       "    <tr style=\"text-align: right;\">\n",
       "      <th></th>\n",
       "      <th>PassengerId</th>\n",
       "      <th>Pclass</th>\n",
       "      <th>Name</th>\n",
       "      <th>Sex</th>\n",
       "      <th>Age</th>\n",
       "      <th>SibSp</th>\n",
       "      <th>Parch</th>\n",
       "      <th>Ticket</th>\n",
       "      <th>Fare</th>\n",
       "      <th>Cabin</th>\n",
       "      <th>Embarked</th>\n",
       "    </tr>\n",
       "  </thead>\n",
       "  <tbody>\n",
       "    <tr>\n",
       "      <th>0</th>\n",
       "      <td>892</td>\n",
       "      <td>3</td>\n",
       "      <td>Kelly, Mr. James</td>\n",
       "      <td>male</td>\n",
       "      <td>34.5</td>\n",
       "      <td>0</td>\n",
       "      <td>0</td>\n",
       "      <td>330911</td>\n",
       "      <td>7.8292</td>\n",
       "      <td>NaN</td>\n",
       "      <td>Q</td>\n",
       "    </tr>\n",
       "    <tr>\n",
       "      <th>1</th>\n",
       "      <td>893</td>\n",
       "      <td>3</td>\n",
       "      <td>Wilkes, Mrs. James (Ellen Needs)</td>\n",
       "      <td>female</td>\n",
       "      <td>47.0</td>\n",
       "      <td>1</td>\n",
       "      <td>0</td>\n",
       "      <td>363272</td>\n",
       "      <td>7.0000</td>\n",
       "      <td>NaN</td>\n",
       "      <td>S</td>\n",
       "    </tr>\n",
       "    <tr>\n",
       "      <th>2</th>\n",
       "      <td>894</td>\n",
       "      <td>2</td>\n",
       "      <td>Myles, Mr. Thomas Francis</td>\n",
       "      <td>male</td>\n",
       "      <td>62.0</td>\n",
       "      <td>0</td>\n",
       "      <td>0</td>\n",
       "      <td>240276</td>\n",
       "      <td>9.6875</td>\n",
       "      <td>NaN</td>\n",
       "      <td>Q</td>\n",
       "    </tr>\n",
       "    <tr>\n",
       "      <th>3</th>\n",
       "      <td>895</td>\n",
       "      <td>3</td>\n",
       "      <td>Wirz, Mr. Albert</td>\n",
       "      <td>male</td>\n",
       "      <td>27.0</td>\n",
       "      <td>0</td>\n",
       "      <td>0</td>\n",
       "      <td>315154</td>\n",
       "      <td>8.6625</td>\n",
       "      <td>NaN</td>\n",
       "      <td>S</td>\n",
       "    </tr>\n",
       "    <tr>\n",
       "      <th>4</th>\n",
       "      <td>896</td>\n",
       "      <td>3</td>\n",
       "      <td>Hirvonen, Mrs. Alexander (Helga E Lindqvist)</td>\n",
       "      <td>female</td>\n",
       "      <td>22.0</td>\n",
       "      <td>1</td>\n",
       "      <td>1</td>\n",
       "      <td>3101298</td>\n",
       "      <td>12.2875</td>\n",
       "      <td>NaN</td>\n",
       "      <td>S</td>\n",
       "    </tr>\n",
       "    <tr>\n",
       "      <th>...</th>\n",
       "      <td>...</td>\n",
       "      <td>...</td>\n",
       "      <td>...</td>\n",
       "      <td>...</td>\n",
       "      <td>...</td>\n",
       "      <td>...</td>\n",
       "      <td>...</td>\n",
       "      <td>...</td>\n",
       "      <td>...</td>\n",
       "      <td>...</td>\n",
       "      <td>...</td>\n",
       "    </tr>\n",
       "    <tr>\n",
       "      <th>413</th>\n",
       "      <td>1305</td>\n",
       "      <td>3</td>\n",
       "      <td>Spector, Mr. Woolf</td>\n",
       "      <td>male</td>\n",
       "      <td>NaN</td>\n",
       "      <td>0</td>\n",
       "      <td>0</td>\n",
       "      <td>A.5. 3236</td>\n",
       "      <td>8.0500</td>\n",
       "      <td>NaN</td>\n",
       "      <td>S</td>\n",
       "    </tr>\n",
       "    <tr>\n",
       "      <th>414</th>\n",
       "      <td>1306</td>\n",
       "      <td>1</td>\n",
       "      <td>Oliva y Ocana, Dona. Fermina</td>\n",
       "      <td>female</td>\n",
       "      <td>39.0</td>\n",
       "      <td>0</td>\n",
       "      <td>0</td>\n",
       "      <td>PC 17758</td>\n",
       "      <td>108.9000</td>\n",
       "      <td>C105</td>\n",
       "      <td>C</td>\n",
       "    </tr>\n",
       "    <tr>\n",
       "      <th>415</th>\n",
       "      <td>1307</td>\n",
       "      <td>3</td>\n",
       "      <td>Saether, Mr. Simon Sivertsen</td>\n",
       "      <td>male</td>\n",
       "      <td>38.5</td>\n",
       "      <td>0</td>\n",
       "      <td>0</td>\n",
       "      <td>SOTON/O.Q. 3101262</td>\n",
       "      <td>7.2500</td>\n",
       "      <td>NaN</td>\n",
       "      <td>S</td>\n",
       "    </tr>\n",
       "    <tr>\n",
       "      <th>416</th>\n",
       "      <td>1308</td>\n",
       "      <td>3</td>\n",
       "      <td>Ware, Mr. Frederick</td>\n",
       "      <td>male</td>\n",
       "      <td>NaN</td>\n",
       "      <td>0</td>\n",
       "      <td>0</td>\n",
       "      <td>359309</td>\n",
       "      <td>8.0500</td>\n",
       "      <td>NaN</td>\n",
       "      <td>S</td>\n",
       "    </tr>\n",
       "    <tr>\n",
       "      <th>417</th>\n",
       "      <td>1309</td>\n",
       "      <td>3</td>\n",
       "      <td>Peter, Master. Michael J</td>\n",
       "      <td>male</td>\n",
       "      <td>NaN</td>\n",
       "      <td>1</td>\n",
       "      <td>1</td>\n",
       "      <td>2668</td>\n",
       "      <td>22.3583</td>\n",
       "      <td>NaN</td>\n",
       "      <td>C</td>\n",
       "    </tr>\n",
       "  </tbody>\n",
       "</table>\n",
       "<p>418 rows × 11 columns</p>\n",
       "</div>"
      ],
      "text/plain": [
       "     PassengerId  Pclass                                          Name  \\\n",
       "0            892       3                              Kelly, Mr. James   \n",
       "1            893       3              Wilkes, Mrs. James (Ellen Needs)   \n",
       "2            894       2                     Myles, Mr. Thomas Francis   \n",
       "3            895       3                              Wirz, Mr. Albert   \n",
       "4            896       3  Hirvonen, Mrs. Alexander (Helga E Lindqvist)   \n",
       "..           ...     ...                                           ...   \n",
       "413         1305       3                            Spector, Mr. Woolf   \n",
       "414         1306       1                  Oliva y Ocana, Dona. Fermina   \n",
       "415         1307       3                  Saether, Mr. Simon Sivertsen   \n",
       "416         1308       3                           Ware, Mr. Frederick   \n",
       "417         1309       3                      Peter, Master. Michael J   \n",
       "\n",
       "        Sex   Age  SibSp  Parch              Ticket      Fare Cabin Embarked  \n",
       "0      male  34.5      0      0              330911    7.8292   NaN        Q  \n",
       "1    female  47.0      1      0              363272    7.0000   NaN        S  \n",
       "2      male  62.0      0      0              240276    9.6875   NaN        Q  \n",
       "3      male  27.0      0      0              315154    8.6625   NaN        S  \n",
       "4    female  22.0      1      1             3101298   12.2875   NaN        S  \n",
       "..      ...   ...    ...    ...                 ...       ...   ...      ...  \n",
       "413    male   NaN      0      0           A.5. 3236    8.0500   NaN        S  \n",
       "414  female  39.0      0      0            PC 17758  108.9000  C105        C  \n",
       "415    male  38.5      0      0  SOTON/O.Q. 3101262    7.2500   NaN        S  \n",
       "416    male   NaN      0      0              359309    8.0500   NaN        S  \n",
       "417    male   NaN      1      1                2668   22.3583   NaN        C  \n",
       "\n",
       "[418 rows x 11 columns]"
      ]
     },
     "metadata": {},
     "output_type": "display_data"
    },
    {
     "name": "stdout",
     "output_type": "stream",
     "text": [
      "Pclass  Survived\n",
      "1       0            80\n",
      "        1           136\n",
      "2       0            97\n",
      "        1            87\n",
      "3       0           372\n",
      "        1           119\n",
      "Name: PassengerId, dtype: int64\n"
     ]
    }
   ],
   "source": [
    "# This Python 3 environment comes with many helpful analytics libraries installed\n",
    "# It is defined by the kaggle/python Docker image: https://github.com/kaggle/docker-python\n",
    "# For example, here's several helpful packages to load\n",
    "\n",
    "import numpy as np # linear algebra\n",
    "import pandas as pd # data processing, CSV file I/O (e.g. pd.read_csv)\n",
    "\n",
    "# Input data files are available in the read-only \"../input/\" directory\n",
    "# For example, running this (by clicking run or pressing Shift+Enter) will list all files under the input directory\n",
    "\n",
    "import os\n",
    "for dirname, _, filenames in os.walk('/kaggle/input'):\n",
    "    for filename in filenames:\n",
    "        print(os.path.join(dirname, filename))\n",
    "train_data = pd.read_csv('/kaggle/input/titanic/train.csv')\n",
    "test_data = pd.read_csv('/kaggle/input/titanic/test.csv')\n",
    "print(len(train_data))\n",
    "display(train_data.isnull().sum())\n",
    "display(test_data)\n",
    "print(train_data.groupby(['Pclass','Survived'])['PassengerId'].count())\n",
    "# You can write up to 20GB to the current directory (/kaggle/working/) that gets preserved as output when you create a version using \"Save & Run All\" \n",
    "# You can also write temporary files to /kaggle/temp/, but they won't be saved outside of the current session"
   ]
  },
  {
   "cell_type": "markdown",
   "id": "6f6bcbd4",
   "metadata": {
    "papermill": {
     "duration": 0.010307,
     "end_time": "2023-11-17T20:10:04.921742",
     "exception": false,
     "start_time": "2023-11-17T20:10:04.911435",
     "status": "completed"
    },
    "tags": []
   },
   "source": [
    "First, I will explore the basic facts of the training data, identifying the names, datatypes, and number of missing values in each of the colums."
   ]
  },
  {
   "cell_type": "code",
   "execution_count": 2,
   "id": "a66481a1",
   "metadata": {
    "execution": {
     "iopub.execute_input": "2023-11-17T20:10:04.944980Z",
     "iopub.status.busy": "2023-11-17T20:10:04.944504Z",
     "iopub.status.idle": "2023-11-17T20:10:04.960985Z",
     "shell.execute_reply": "2023-11-17T20:10:04.959405Z"
    },
    "papermill": {
     "duration": 0.032237,
     "end_time": "2023-11-17T20:10:04.964267",
     "exception": false,
     "start_time": "2023-11-17T20:10:04.932030",
     "status": "completed"
    },
    "tags": []
   },
   "outputs": [
    {
     "name": "stdout",
     "output_type": "stream",
     "text": [
      "891\n",
      "Index(['PassengerId', 'Survived', 'Pclass', 'Name', 'Sex', 'Age', 'SibSp',\n",
      "       'Parch', 'Ticket', 'Fare', 'Cabin', 'Embarked'],\n",
      "      dtype='object')\n",
      "PassengerId      int64\n",
      "Survived         int64\n",
      "Pclass           int64\n",
      "Name            object\n",
      "Sex             object\n",
      "Age            float64\n",
      "SibSp            int64\n",
      "Parch            int64\n",
      "Ticket          object\n",
      "Fare           float64\n",
      "Cabin           object\n",
      "Embarked        object\n",
      "dtype: object\n"
     ]
    },
    {
     "data": {
      "text/plain": [
       "PassengerId      0\n",
       "Survived         0\n",
       "Pclass           0\n",
       "Name             0\n",
       "Sex              0\n",
       "Age            177\n",
       "SibSp            0\n",
       "Parch            0\n",
       "Ticket           0\n",
       "Fare             0\n",
       "Cabin          687\n",
       "Embarked         2\n",
       "dtype: int64"
      ]
     },
     "metadata": {},
     "output_type": "display_data"
    },
    {
     "name": "stdout",
     "output_type": "stream",
     "text": [
      "<class 'pandas.core.frame.DataFrame'>\n"
     ]
    }
   ],
   "source": [
    "print(len(train_data))\n",
    "print(train_data.columns)\n",
    "print(train_data.dtypes)\n",
    "display(train_data.isnull().sum())\n",
    "print(type(train_data))"
   ]
  },
  {
   "cell_type": "markdown",
   "id": "57a8c5f6",
   "metadata": {
    "papermill": {
     "duration": 0.010875,
     "end_time": "2023-11-17T20:10:04.986086",
     "exception": false,
     "start_time": "2023-11-17T20:10:04.975211",
     "status": "completed"
    },
    "tags": []
   },
   "source": [
    "Most of the cabin data is missing. I will remove this column."
   ]
  },
  {
   "cell_type": "code",
   "execution_count": 3,
   "id": "7b3b025f",
   "metadata": {
    "execution": {
     "iopub.execute_input": "2023-11-17T20:10:05.012793Z",
     "iopub.status.busy": "2023-11-17T20:10:05.011265Z",
     "iopub.status.idle": "2023-11-17T20:10:05.021122Z",
     "shell.execute_reply": "2023-11-17T20:10:05.020111Z"
    },
    "papermill": {
     "duration": 0.026755,
     "end_time": "2023-11-17T20:10:05.024005",
     "exception": false,
     "start_time": "2023-11-17T20:10:04.997250",
     "status": "completed"
    },
    "tags": []
   },
   "outputs": [],
   "source": [
    "train_data.drop(columns = ['Cabin'], inplace = True, axis = 1)\n"
   ]
  },
  {
   "cell_type": "markdown",
   "id": "6ef702cd",
   "metadata": {
    "papermill": {
     "duration": 0.011234,
     "end_time": "2023-11-17T20:10:05.046680",
     "exception": false,
     "start_time": "2023-11-17T20:10:05.035446",
     "status": "completed"
    },
    "tags": []
   },
   "source": [
    "I will build a baseline model just by inspecting the data. This will be helpful to have something to compare more advanced machine learning methods against. My first guess is that the ticket class will be helpful in predicting the survival of the guests."
   ]
  },
  {
   "cell_type": "code",
   "execution_count": 4,
   "id": "949ade50",
   "metadata": {
    "execution": {
     "iopub.execute_input": "2023-11-17T20:10:05.072746Z",
     "iopub.status.busy": "2023-11-17T20:10:05.072254Z",
     "iopub.status.idle": "2023-11-17T20:10:05.081520Z",
     "shell.execute_reply": "2023-11-17T20:10:05.080425Z"
    },
    "papermill": {
     "duration": 0.02562,
     "end_time": "2023-11-17T20:10:05.084413",
     "exception": false,
     "start_time": "2023-11-17T20:10:05.058793",
     "status": "completed"
    },
    "tags": []
   },
   "outputs": [
    {
     "name": "stdout",
     "output_type": "stream",
     "text": [
      "Pclass  Survived\n",
      "1       0            80\n",
      "        1           136\n",
      "2       0            97\n",
      "        1            87\n",
      "3       0           372\n",
      "        1           119\n",
      "Name: PassengerId, dtype: int64\n"
     ]
    }
   ],
   "source": [
    "print(train_data.groupby(['Pclass','Survived'])['PassengerId'].count())\n"
   ]
  },
  {
   "cell_type": "markdown",
   "id": "a486770c",
   "metadata": {
    "papermill": {
     "duration": 0.010279,
     "end_time": "2023-11-17T20:10:05.105364",
     "exception": false,
     "start_time": "2023-11-17T20:10:05.095085",
     "status": "completed"
    },
    "tags": []
   },
   "source": [
    "We see that first class passengers have a relatively high likelihood of survival, whereas third class passengers have a much lower probability of surving. Second class passengers are pretty close to 50/50. I'll try to find another predictive variable to split the second class passengers."
   ]
  },
  {
   "cell_type": "code",
   "execution_count": 5,
   "id": "6f7fbf63",
   "metadata": {
    "execution": {
     "iopub.execute_input": "2023-11-17T20:10:05.128990Z",
     "iopub.status.busy": "2023-11-17T20:10:05.128312Z",
     "iopub.status.idle": "2023-11-17T20:10:05.147933Z",
     "shell.execute_reply": "2023-11-17T20:10:05.146253Z"
    },
    "papermill": {
     "duration": 0.034385,
     "end_time": "2023-11-17T20:10:05.150476",
     "exception": false,
     "start_time": "2023-11-17T20:10:05.116091",
     "status": "completed"
    },
    "tags": []
   },
   "outputs": [
    {
     "data": {
      "text/plain": [
       "Sex     Survived\n",
       "female  1           70\n",
       "        0            6\n",
       "male    0           91\n",
       "        1           17\n",
       "Name: count, dtype: int64"
      ]
     },
     "execution_count": 5,
     "metadata": {},
     "output_type": "execute_result"
    }
   ],
   "source": [
    "train_data_second_class = train_data[train_data['Pclass'] == 2]\n",
    "train_data_second_class.groupby('Sex')['Survived'].value_counts()\n"
   ]
  },
  {
   "cell_type": "markdown",
   "id": "a5e3e4e9",
   "metadata": {
    "papermill": {
     "duration": 0.010613,
     "end_time": "2023-11-17T20:10:05.172801",
     "exception": false,
     "start_time": "2023-11-17T20:10:05.162188",
     "status": "completed"
    },
    "tags": []
   },
   "source": [
    "We see that women in the second class survived at a much higher rate. This leads to our"
   ]
  },
  {
   "cell_type": "code",
   "execution_count": 6,
   "id": "799a770b",
   "metadata": {
    "execution": {
     "iopub.execute_input": "2023-11-17T20:10:05.197317Z",
     "iopub.status.busy": "2023-11-17T20:10:05.196884Z",
     "iopub.status.idle": "2023-11-17T20:10:05.230696Z",
     "shell.execute_reply": "2023-11-17T20:10:05.229594Z"
    },
    "papermill": {
     "duration": 0.049641,
     "end_time": "2023-11-17T20:10:05.233576",
     "exception": false,
     "start_time": "2023-11-17T20:10:05.183935",
     "status": "completed"
    },
    "tags": []
   },
   "outputs": [],
   "source": [
    "preds = []\n",
    "for i in range(len(test_data)):\n",
    "    if test_data['Pclass'].iloc[i] == 1:\n",
    "        preds.append(1)\n",
    "    elif test_data['Pclass'].iloc[i] == 3:\n",
    "        preds.append(0)\n",
    "    else:\n",
    "        if test_data['Sex'].iloc[i] == 'female':\n",
    "            preds.append(1)\n",
    "        else:\n",
    "            preds.append(0)\n",
    "test_data['Survived'] = preds\n",
    "submission = test_data[['PassengerId','Survived']]\n",
    "submission.to_csv('submission.csv', index = False)"
   ]
  },
  {
   "cell_type": "markdown",
   "id": "2c441fbf",
   "metadata": {
    "papermill": {
     "duration": 0.010818,
     "end_time": "2023-11-17T20:10:05.256383",
     "exception": false,
     "start_time": "2023-11-17T20:10:05.245565",
     "status": "completed"
    },
    "tags": []
   },
   "source": [
    "Predictably, this model didn't do particularly well. It ended up scoring ~72%. We will now try to use the data to build a more sophisticated machine learning model. First, we will translate the categorical variables to numerical variables."
   ]
  },
  {
   "cell_type": "code",
   "execution_count": 7,
   "id": "b9823eb8",
   "metadata": {
    "execution": {
     "iopub.execute_input": "2023-11-17T20:10:05.279883Z",
     "iopub.status.busy": "2023-11-17T20:10:05.279391Z",
     "iopub.status.idle": "2023-11-17T20:10:05.304237Z",
     "shell.execute_reply": "2023-11-17T20:10:05.302730Z"
    },
    "papermill": {
     "duration": 0.041198,
     "end_time": "2023-11-17T20:10:05.308169",
     "exception": false,
     "start_time": "2023-11-17T20:10:05.266971",
     "status": "completed"
    },
    "tags": []
   },
   "outputs": [
    {
     "name": "stdout",
     "output_type": "stream",
     "text": [
      "28.0\n"
     ]
    },
    {
     "data": {
      "text/plain": [
       "PassengerId    0\n",
       "Survived       0\n",
       "Name           0\n",
       "Age            0\n",
       "SibSp          0\n",
       "Parch          0\n",
       "Ticket         0\n",
       "Fare           0\n",
       "Pclass_2       0\n",
       "Pclass_3       0\n",
       "Sex_male       0\n",
       "Embarked_Q     0\n",
       "Embarked_S     0\n",
       "dtype: int64"
      ]
     },
     "metadata": {},
     "output_type": "display_data"
    },
    {
     "name": "stdout",
     "output_type": "stream",
     "text": [
      "891\n"
     ]
    }
   ],
   "source": [
    "train_data = pd.get_dummies(train_data, columns = ['Pclass','Sex', 'Embarked'], drop_first = True)\n",
    "\n",
    "print(train_data['Age'].median())\n",
    "train_data['Age'].fillna(value = train_data['Age'].median(), inplace = True )\n",
    "display(train_data.isna().sum())\n",
    "print(len(train_data))"
   ]
  },
  {
   "cell_type": "code",
   "execution_count": 8,
   "id": "d02d223f",
   "metadata": {
    "execution": {
     "iopub.execute_input": "2023-11-17T20:10:05.335232Z",
     "iopub.status.busy": "2023-11-17T20:10:05.334819Z",
     "iopub.status.idle": "2023-11-17T20:10:06.958863Z",
     "shell.execute_reply": "2023-11-17T20:10:06.957674Z"
    },
    "papermill": {
     "duration": 1.641011,
     "end_time": "2023-11-17T20:10:06.961313",
     "exception": false,
     "start_time": "2023-11-17T20:10:05.320302",
     "status": "completed"
    },
    "tags": []
   },
   "outputs": [
    {
     "data": {
      "text/html": [
       "<div>\n",
       "<style scoped>\n",
       "    .dataframe tbody tr th:only-of-type {\n",
       "        vertical-align: middle;\n",
       "    }\n",
       "\n",
       "    .dataframe tbody tr th {\n",
       "        vertical-align: top;\n",
       "    }\n",
       "\n",
       "    .dataframe thead th {\n",
       "        text-align: right;\n",
       "    }\n",
       "</style>\n",
       "<table border=\"1\" class=\"dataframe\">\n",
       "  <thead>\n",
       "    <tr style=\"text-align: right;\">\n",
       "      <th></th>\n",
       "      <th>Age</th>\n",
       "      <th>SibSp</th>\n",
       "      <th>Parch</th>\n",
       "      <th>Fare</th>\n",
       "      <th>Pclass_2</th>\n",
       "      <th>Pclass_3</th>\n",
       "      <th>Sex_male</th>\n",
       "      <th>Embarked_Q</th>\n",
       "      <th>Embarked_S</th>\n",
       "    </tr>\n",
       "  </thead>\n",
       "  <tbody>\n",
       "    <tr>\n",
       "      <th>287</th>\n",
       "      <td>22.0</td>\n",
       "      <td>0</td>\n",
       "      <td>0</td>\n",
       "      <td>7.8958</td>\n",
       "      <td>False</td>\n",
       "      <td>True</td>\n",
       "      <td>True</td>\n",
       "      <td>False</td>\n",
       "      <td>True</td>\n",
       "    </tr>\n",
       "    <tr>\n",
       "      <th>220</th>\n",
       "      <td>16.0</td>\n",
       "      <td>0</td>\n",
       "      <td>0</td>\n",
       "      <td>8.0500</td>\n",
       "      <td>False</td>\n",
       "      <td>True</td>\n",
       "      <td>True</td>\n",
       "      <td>False</td>\n",
       "      <td>True</td>\n",
       "    </tr>\n",
       "    <tr>\n",
       "      <th>643</th>\n",
       "      <td>28.0</td>\n",
       "      <td>0</td>\n",
       "      <td>0</td>\n",
       "      <td>56.4958</td>\n",
       "      <td>False</td>\n",
       "      <td>True</td>\n",
       "      <td>True</td>\n",
       "      <td>False</td>\n",
       "      <td>True</td>\n",
       "    </tr>\n",
       "    <tr>\n",
       "      <th>542</th>\n",
       "      <td>11.0</td>\n",
       "      <td>4</td>\n",
       "      <td>2</td>\n",
       "      <td>31.2750</td>\n",
       "      <td>False</td>\n",
       "      <td>True</td>\n",
       "      <td>False</td>\n",
       "      <td>False</td>\n",
       "      <td>True</td>\n",
       "    </tr>\n",
       "    <tr>\n",
       "      <th>120</th>\n",
       "      <td>21.0</td>\n",
       "      <td>2</td>\n",
       "      <td>0</td>\n",
       "      <td>73.5000</td>\n",
       "      <td>True</td>\n",
       "      <td>False</td>\n",
       "      <td>True</td>\n",
       "      <td>False</td>\n",
       "      <td>True</td>\n",
       "    </tr>\n",
       "    <tr>\n",
       "      <th>...</th>\n",
       "      <td>...</td>\n",
       "      <td>...</td>\n",
       "      <td>...</td>\n",
       "      <td>...</td>\n",
       "      <td>...</td>\n",
       "      <td>...</td>\n",
       "      <td>...</td>\n",
       "      <td>...</td>\n",
       "      <td>...</td>\n",
       "    </tr>\n",
       "    <tr>\n",
       "      <th>824</th>\n",
       "      <td>2.0</td>\n",
       "      <td>4</td>\n",
       "      <td>1</td>\n",
       "      <td>39.6875</td>\n",
       "      <td>False</td>\n",
       "      <td>True</td>\n",
       "      <td>True</td>\n",
       "      <td>False</td>\n",
       "      <td>True</td>\n",
       "    </tr>\n",
       "    <tr>\n",
       "      <th>543</th>\n",
       "      <td>32.0</td>\n",
       "      <td>1</td>\n",
       "      <td>0</td>\n",
       "      <td>26.0000</td>\n",
       "      <td>True</td>\n",
       "      <td>False</td>\n",
       "      <td>True</td>\n",
       "      <td>False</td>\n",
       "      <td>True</td>\n",
       "    </tr>\n",
       "    <tr>\n",
       "      <th>840</th>\n",
       "      <td>20.0</td>\n",
       "      <td>0</td>\n",
       "      <td>0</td>\n",
       "      <td>7.9250</td>\n",
       "      <td>False</td>\n",
       "      <td>True</td>\n",
       "      <td>True</td>\n",
       "      <td>False</td>\n",
       "      <td>True</td>\n",
       "    </tr>\n",
       "    <tr>\n",
       "      <th>696</th>\n",
       "      <td>44.0</td>\n",
       "      <td>0</td>\n",
       "      <td>0</td>\n",
       "      <td>8.0500</td>\n",
       "      <td>False</td>\n",
       "      <td>True</td>\n",
       "      <td>True</td>\n",
       "      <td>False</td>\n",
       "      <td>True</td>\n",
       "    </tr>\n",
       "    <tr>\n",
       "      <th>19</th>\n",
       "      <td>28.0</td>\n",
       "      <td>0</td>\n",
       "      <td>0</td>\n",
       "      <td>7.2250</td>\n",
       "      <td>False</td>\n",
       "      <td>True</td>\n",
       "      <td>False</td>\n",
       "      <td>False</td>\n",
       "      <td>False</td>\n",
       "    </tr>\n",
       "  </tbody>\n",
       "</table>\n",
       "<p>668 rows × 9 columns</p>\n",
       "</div>"
      ],
      "text/plain": [
       "      Age  SibSp  Parch     Fare  Pclass_2  Pclass_3  Sex_male  Embarked_Q  \\\n",
       "287  22.0      0      0   7.8958     False      True      True       False   \n",
       "220  16.0      0      0   8.0500     False      True      True       False   \n",
       "643  28.0      0      0  56.4958     False      True      True       False   \n",
       "542  11.0      4      2  31.2750     False      True     False       False   \n",
       "120  21.0      2      0  73.5000      True     False      True       False   \n",
       "..    ...    ...    ...      ...       ...       ...       ...         ...   \n",
       "824   2.0      4      1  39.6875     False      True      True       False   \n",
       "543  32.0      1      0  26.0000      True     False      True       False   \n",
       "840  20.0      0      0   7.9250     False      True      True       False   \n",
       "696  44.0      0      0   8.0500     False      True      True       False   \n",
       "19   28.0      0      0   7.2250     False      True     False       False   \n",
       "\n",
       "     Embarked_S  \n",
       "287        True  \n",
       "220        True  \n",
       "643        True  \n",
       "542        True  \n",
       "120        True  \n",
       "..          ...  \n",
       "824        True  \n",
       "543        True  \n",
       "840        True  \n",
       "696        True  \n",
       "19        False  \n",
       "\n",
       "[668 rows x 9 columns]"
      ]
     },
     "metadata": {},
     "output_type": "display_data"
    },
    {
     "data": {
      "text/plain": [
       "432    1\n",
       "10     1\n",
       "38     0\n",
       "747    1\n",
       "314    0\n",
       "      ..\n",
       "746    0\n",
       "587    1\n",
       "66     1\n",
       "99     0\n",
       "321    0\n",
       "Name: Survived, Length: 223, dtype: int64"
      ]
     },
     "metadata": {},
     "output_type": "display_data"
    }
   ],
   "source": [
    "\n",
    "X = train_data.drop(columns = ['Survived','Name','PassengerId','Ticket'], axis = 1)\n",
    "y = train_data['Survived']\n",
    "from sklearn.model_selection import train_test_split\n",
    "X_train, X_test, y_train, y_test = train_test_split(X,y, test_size = 0.25, random_state = 27)\n",
    "display(X_train)\n",
    "display(y_test)"
   ]
  },
  {
   "cell_type": "markdown",
   "id": "30588e7d",
   "metadata": {
    "papermill": {
     "duration": 0.011833,
     "end_time": "2023-11-17T20:10:06.987794",
     "exception": false,
     "start_time": "2023-11-17T20:10:06.975961",
     "status": "completed"
    },
    "tags": []
   },
   "source": [
    "We will start by training a k nearest neighbors model."
   ]
  },
  {
   "cell_type": "code",
   "execution_count": 9,
   "id": "4f494d55",
   "metadata": {
    "execution": {
     "iopub.execute_input": "2023-11-17T20:10:07.014579Z",
     "iopub.status.busy": "2023-11-17T20:10:07.014154Z",
     "iopub.status.idle": "2023-11-17T20:10:07.804015Z",
     "shell.execute_reply": "2023-11-17T20:10:07.802722Z"
    },
    "papermill": {
     "duration": 0.807585,
     "end_time": "2023-11-17T20:10:07.807096",
     "exception": false,
     "start_time": "2023-11-17T20:10:06.999511",
     "status": "completed"
    },
    "tags": []
   },
   "outputs": [
    {
     "name": "stdout",
     "output_type": "stream",
     "text": [
      "0.8071748878923767\n",
      "{'n_neighbors': 6}\n"
     ]
    }
   ],
   "source": [
    "from sklearn.neighbors import KNeighborsClassifier as KNN\n",
    "from sklearn.metrics import accuracy_score\n",
    "from sklearn.model_selection import GridSearchCV\n",
    "from sklearn.preprocessing import StandardScaler\n",
    "test_data_clean = test_data.drop(columns = ['PassengerId','Name','Ticket','Cabin','Survived'], axis = 1)\n",
    "test_data_clean = pd.get_dummies(test_data_clean, columns = ['Pclass','Sex', 'Embarked'], drop_first = True)\n",
    "test_data_clean['Age'].fillna(value = 28.0, inplace = True)\n",
    "test_data_clean['Fare'].fillna(value = train_data['Fare'].median(), inplace = True)\n",
    "ss = StandardScaler()\n",
    "ss.fit(X_train)\n",
    "X_train_scaled = ss.transform(X_train)\n",
    "X_test_scaled = ss.transform(X_test)\n",
    "\n",
    "params = {'n_neighbors':[1,2,3,4,5,6]}\n",
    "\n",
    "knn = KNN()\n",
    "gscv = GridSearchCV(estimator = knn, param_grid = params, scoring = 'accuracy', cv = 5)\n",
    "gscv.fit(X_train_scaled,y_train)\n",
    "predictions = gscv.predict(X_test_scaled)\n",
    "print(accuracy_score(predictions,y_test))\n",
    "print(gscv.best_params_)\n",
    "preds = gscv.predict(ss.transform(test_data_clean))\n",
    "test_data['Survived'] = preds\n",
    "test_data['Survived_knn'] = preds\n",
    "knn_submission = test_data[['PassengerId','Survived']]\n",
    "knn_submission.to_csv('knnsubmission.csv', index = False)"
   ]
  },
  {
   "cell_type": "markdown",
   "id": "c08db0b5",
   "metadata": {
    "papermill": {
     "duration": 0.011693,
     "end_time": "2023-11-17T20:10:07.830901",
     "exception": false,
     "start_time": "2023-11-17T20:10:07.819208",
     "status": "completed"
    },
    "tags": []
   },
   "source": [
    "The model performs reasonably well (about 77% on the actual test data), but there is definitely room for improvement. We will try a decision tree classifier next. First we will just try a specific set of parameters before trying to optimize with a full grid search."
   ]
  },
  {
   "cell_type": "code",
   "execution_count": 10,
   "id": "080afd91",
   "metadata": {
    "execution": {
     "iopub.execute_input": "2023-11-17T20:10:07.858171Z",
     "iopub.status.busy": "2023-11-17T20:10:07.856762Z",
     "iopub.status.idle": "2023-11-17T20:10:07.913628Z",
     "shell.execute_reply": "2023-11-17T20:10:07.911865Z"
    },
    "papermill": {
     "duration": 0.073889,
     "end_time": "2023-11-17T20:10:07.916892",
     "exception": false,
     "start_time": "2023-11-17T20:10:07.843003",
     "status": "completed"
    },
    "tags": []
   },
   "outputs": [
    {
     "name": "stdout",
     "output_type": "stream",
     "text": [
      "0.757847533632287\n"
     ]
    }
   ],
   "source": [
    "from sklearn.tree import DecisionTreeClassifier\n",
    "dtc = DecisionTreeClassifier(max_depth = 5, min_samples_leaf = .1)\n",
    "dtc.fit(X_train,y_train)\n",
    "predictions = dtc.predict(X_test)\n",
    "print(accuracy_score(predictions,y_test))"
   ]
  },
  {
   "cell_type": "markdown",
   "id": "f32170c5",
   "metadata": {
    "papermill": {
     "duration": 0.011988,
     "end_time": "2023-11-17T20:10:07.941712",
     "exception": false,
     "start_time": "2023-11-17T20:10:07.929724",
     "status": "completed"
    },
    "tags": []
   },
   "source": [
    "This is unlikely to outperform the KNN model, so we will try to build a more accurate model with gridsearchCV."
   ]
  },
  {
   "cell_type": "code",
   "execution_count": 11,
   "id": "8817cbf3",
   "metadata": {
    "execution": {
     "iopub.execute_input": "2023-11-17T20:10:07.968538Z",
     "iopub.status.busy": "2023-11-17T20:10:07.968094Z",
     "iopub.status.idle": "2023-11-17T20:10:12.663160Z",
     "shell.execute_reply": "2023-11-17T20:10:12.662006Z"
    },
    "papermill": {
     "duration": 4.711997,
     "end_time": "2023-11-17T20:10:12.666031",
     "exception": false,
     "start_time": "2023-11-17T20:10:07.954034",
     "status": "completed"
    },
    "tags": []
   },
   "outputs": [
    {
     "name": "stdout",
     "output_type": "stream",
     "text": [
      "0.8071748878923767\n"
     ]
    }
   ],
   "source": [
    "params = {'max_depth' :range(2,9), 'min_samples_leaf' : np.linspace(0.01,.99,20)}\n",
    "dt = DecisionTreeClassifier()\n",
    "gscv = GridSearchCV(estimator = dt, param_grid = params, scoring ='accuracy', cv = 5)\n",
    "gscv.fit(X_train,y_train)\n",
    "predictions = gscv.predict(X_test)\n",
    "print(accuracy_score(predictions,y_test))\n",
    "\n",
    "preds = gscv.predict(test_data_clean)\n",
    "test_data['Survived'] = preds\n",
    "test_data['Survived_dt'] = preds\n",
    "dtc_submission = test_data[['PassengerId','Survived']]\n",
    "dtc_submission.to_csv('dtc_submssion.csv', index = False)"
   ]
  },
  {
   "cell_type": "markdown",
   "id": "0d019b09",
   "metadata": {
    "papermill": {
     "duration": 0.011451,
     "end_time": "2023-11-17T20:10:12.690004",
     "exception": false,
     "start_time": "2023-11-17T20:10:12.678553",
     "status": "completed"
    },
    "tags": []
   },
   "source": [
    "On the hidden test data, this model scored about 76% so slightly worse than the knn approach. Next we will try an extreme gradient boosting approach."
   ]
  },
  {
   "cell_type": "code",
   "execution_count": 12,
   "id": "c7b17110",
   "metadata": {
    "execution": {
     "iopub.execute_input": "2023-11-17T20:10:12.716762Z",
     "iopub.status.busy": "2023-11-17T20:10:12.716357Z",
     "iopub.status.idle": "2023-11-17T20:10:14.590395Z",
     "shell.execute_reply": "2023-11-17T20:10:14.589046Z"
    },
    "papermill": {
     "duration": 1.890875,
     "end_time": "2023-11-17T20:10:14.593160",
     "exception": false,
     "start_time": "2023-11-17T20:10:12.702285",
     "status": "completed"
    },
    "tags": []
   },
   "outputs": [
    {
     "name": "stdout",
     "output_type": "stream",
     "text": [
      "0.820627802690583\n",
      "{'n_estimators': 7}\n"
     ]
    }
   ],
   "source": [
    "import xgboost\n",
    "\n",
    "xgb = xgboost.XGBClassifier(objective = 'binary:logistic')\n",
    "param_grid = {'n_estimators':range(3,15)}\n",
    "xgbgscv = GridSearchCV(estimator = xgb, param_grid = param_grid, scoring = 'accuracy', cv = 5)\n",
    "xgbgscv.fit(X_train,y_train)\n",
    "predictions = xgbgscv.predict(X_test)\n",
    "print(accuracy_score(y_test,predictions))\n",
    "preds = xgbgscv.predict(test_data_clean)\n",
    "test_data['Survived'] = preds\n",
    "test_data['Survived_xgb'] = preds\n",
    "xgb_submission = test_data[['PassengerId','Survived']]\n",
    "xgb_submission.to_csv('xgb_submission.csv',index = False)\n",
    "print(xgbgscv.best_params_)"
   ]
  },
  {
   "cell_type": "markdown",
   "id": "e28d29b6",
   "metadata": {
    "papermill": {
     "duration": 0.011914,
     "end_time": "2023-11-17T20:10:14.620096",
     "exception": false,
     "start_time": "2023-11-17T20:10:14.608182",
     "status": "completed"
    },
    "tags": []
   },
   "source": [
    "This model also scored around a 77% on the hidden data. Next we will try a random forest approach."
   ]
  },
  {
   "cell_type": "code",
   "execution_count": 13,
   "id": "2498ed9d",
   "metadata": {
    "execution": {
     "iopub.execute_input": "2023-11-17T20:10:14.646541Z",
     "iopub.status.busy": "2023-11-17T20:10:14.645885Z",
     "iopub.status.idle": "2023-11-17T20:10:14.651298Z",
     "shell.execute_reply": "2023-11-17T20:10:14.650413Z"
    },
    "papermill": {
     "duration": 0.021868,
     "end_time": "2023-11-17T20:10:14.654005",
     "exception": false,
     "start_time": "2023-11-17T20:10:14.632137",
     "status": "completed"
    },
    "tags": []
   },
   "outputs": [],
   "source": [
    "#from sklearn.ensemble import RandomForestClassifier\n",
    "#rf = RandomForestClassifier()\n",
    "#params = {'n_estimators': [50,100,150], 'max_depth':[4,5,6,7,8], 'min_samples_leaf':[.05,.1,.15,.2]}\n",
    "#rfgscv = GridSearchCV(rf, param_grid = params, scoring = 'accuracy', cv = 5)\n",
    "#rfgscv.fit(X_train,y_train)\n",
    "#predictions = rfgscv.predict(X_test)\n",
    "#print(accuracy_score(y_test,predictions))\n",
    "#preds = rfgscv.predict(test_data_clean)\n",
    "#test_data['Survived'] = preds\n",
    "#test_data['Survived_rf'] = preds\n",
    "#rf_submission = test_data[['PassengerId','Survived']]\n",
    "#rf_submission.to_csv('rf_submission.csv', index = False)\n",
    "#print(rfgscv.best_params_)"
   ]
  },
  {
   "cell_type": "markdown",
   "id": "de2775c3",
   "metadata": {
    "papermill": {
     "duration": 0.01219,
     "end_time": "2023-11-17T20:10:14.678271",
     "exception": false,
     "start_time": "2023-11-17T20:10:14.666081",
     "status": "completed"
    },
    "tags": []
   },
   "source": [
    "This model found that the best score for the minimum samples was 0.05, so I will try again with even lower values for min sample leaf to see if the perforance can improve further."
   ]
  },
  {
   "cell_type": "code",
   "execution_count": 14,
   "id": "8c8283b1",
   "metadata": {
    "execution": {
     "iopub.execute_input": "2023-11-17T20:10:14.706008Z",
     "iopub.status.busy": "2023-11-17T20:10:14.705204Z",
     "iopub.status.idle": "2023-11-17T20:10:26.435194Z",
     "shell.execute_reply": "2023-11-17T20:10:26.433358Z"
    },
    "papermill": {
     "duration": 11.747959,
     "end_time": "2023-11-17T20:10:26.438510",
     "exception": false,
     "start_time": "2023-11-17T20:10:14.690551",
     "status": "completed"
    },
    "tags": []
   },
   "outputs": [
    {
     "name": "stdout",
     "output_type": "stream",
     "text": [
      "0.8295964125560538\n",
      "{'max_depth': 5, 'min_samples_leaf': 0.01, 'n_estimators': 100}\n"
     ]
    }
   ],
   "source": [
    "from sklearn.ensemble import RandomForestClassifier\n",
    "rf = RandomForestClassifier()\n",
    "params = {'n_estimators': [75,100,125], 'max_depth':[5], 'min_samples_leaf':[.05,.01,.015]}\n",
    "rfgscv = GridSearchCV(rf, param_grid = params, scoring = 'accuracy', cv = 5)\n",
    "rfgscv.fit(X_train,y_train)\n",
    "predictions = rfgscv.predict(X_test)\n",
    "print(accuracy_score(y_test,predictions))\n",
    "preds = rfgscv.predict(test_data_clean)\n",
    "test_data['Survived'] = preds\n",
    "test_data['Survived_rf'] = preds\n",
    "rf_submission = test_data[['PassengerId','Survived']]\n",
    "rf_submission.to_csv('rf_submission.csv', index = False)\n",
    "print(rfgscv.best_params_)"
   ]
  },
  {
   "cell_type": "code",
   "execution_count": 15,
   "id": "cfba00c5",
   "metadata": {
    "execution": {
     "iopub.execute_input": "2023-11-17T20:10:26.467727Z",
     "iopub.status.busy": "2023-11-17T20:10:26.466246Z",
     "iopub.status.idle": "2023-11-17T20:10:26.501038Z",
     "shell.execute_reply": "2023-11-17T20:10:26.499208Z"
    },
    "papermill": {
     "duration": 0.053002,
     "end_time": "2023-11-17T20:10:26.504639",
     "exception": false,
     "start_time": "2023-11-17T20:10:26.451637",
     "status": "completed"
    },
    "tags": []
   },
   "outputs": [
    {
     "name": "stdout",
     "output_type": "stream",
     "text": [
      "0.7982062780269058\n"
     ]
    }
   ],
   "source": [
    "from sklearn.linear_model import LogisticRegression\n",
    "lr = LogisticRegression()\n",
    "lr.fit(X_train_scaled,y_train)\n",
    "preds = lr.predict(X_test_scaled)\n",
    "print(accuracy_score(y_test,preds))\n",
    "predictions = lr.predict(ss.transform(test_data_clean))\n",
    "test_data['Survived'] = predictions\n",
    "test_data['Survived_lr'] = predictions\n",
    "lr_submission = test_data[['PassengerId','Survived']]\n",
    "lr_submission.to_csv('lr_submission.csv', index = False)"
   ]
  },
  {
   "cell_type": "markdown",
   "id": "f2565b34",
   "metadata": {
    "papermill": {
     "duration": 0.012785,
     "end_time": "2023-11-17T20:10:26.531234",
     "exception": false,
     "start_time": "2023-11-17T20:10:26.518449",
     "status": "completed"
    },
    "tags": []
   },
   "source": [
    "All of the submissions seem to hover around 77% accuracy. My next attempt will try to combine all five of the previous models by taking a majority decision from all five predictions."
   ]
  },
  {
   "cell_type": "code",
   "execution_count": 16,
   "id": "55af92bc",
   "metadata": {
    "execution": {
     "iopub.execute_input": "2023-11-17T20:10:26.559884Z",
     "iopub.status.busy": "2023-11-17T20:10:26.559381Z",
     "iopub.status.idle": "2023-11-17T20:10:26.613463Z",
     "shell.execute_reply": "2023-11-17T20:10:26.612122Z"
    },
    "papermill": {
     "duration": 0.071695,
     "end_time": "2023-11-17T20:10:26.616240",
     "exception": false,
     "start_time": "2023-11-17T20:10:26.544545",
     "status": "completed"
    },
    "tags": []
   },
   "outputs": [],
   "source": [
    "ensemble_preds = []\n",
    "for i in range(len(test_data)):\n",
    "    if test_data['Survived_knn'].iloc[i] + test_data['Survived_xgb'].iloc[i] + test_data['Survived_rf'].iloc[i] + test_data['Survived_dt'].iloc[i] + test_data['Survived_lr'].iloc[i] >2:\n",
    "        ensemble_preds.append(1)\n",
    "    else:\n",
    "        ensemble_preds.append(0)\n",
    "test_data['Survived'] = ensemble_preds\n",
    "ensemble_submission = test_data[['PassengerId','Survived']]\n",
    "ensemble_submission.to_csv('bagged_submission.csv', index = False)"
   ]
  },
  {
   "cell_type": "markdown",
   "id": "c2d9915a",
   "metadata": {
    "papermill": {
     "duration": 0.012444,
     "end_time": "2023-11-17T20:10:26.641050",
     "exception": false,
     "start_time": "2023-11-17T20:10:26.628606",
     "status": "completed"
    },
    "tags": []
   },
   "source": [
    "This model hits an accuracy of about 78%."
   ]
  },
  {
   "cell_type": "markdown",
   "id": "c2faec57",
   "metadata": {
    "papermill": {
     "duration": 0.104336,
     "end_time": "2023-11-17T20:10:26.758113",
     "exception": false,
     "start_time": "2023-11-17T20:10:26.653777",
     "status": "completed"
    },
    "tags": []
   },
   "source": []
  }
 ],
 "metadata": {
  "kaggle": {
   "accelerator": "none",
   "dataSources": [
    {
     "databundleVersionId": 26502,
     "sourceId": 3136,
     "sourceType": "competition"
    }
   ],
   "dockerImageVersionId": 30579,
   "isGpuEnabled": false,
   "isInternetEnabled": false,
   "language": "python",
   "sourceType": "notebook"
  },
  "kernelspec": {
   "display_name": "Python 3",
   "language": "python",
   "name": "python3"
  },
  "language_info": {
   "codemirror_mode": {
    "name": "ipython",
    "version": 3
   },
   "file_extension": ".py",
   "mimetype": "text/x-python",
   "name": "python",
   "nbconvert_exporter": "python",
   "pygments_lexer": "ipython3",
   "version": "3.10.12"
  },
  "papermill": {
   "default_parameters": {},
   "duration": 28.078046,
   "end_time": "2023-11-17T20:10:27.602253",
   "environment_variables": {},
   "exception": null,
   "input_path": "__notebook__.ipynb",
   "output_path": "__notebook__.ipynb",
   "parameters": {},
   "start_time": "2023-11-17T20:09:59.524207",
   "version": "2.4.0"
  }
 },
 "nbformat": 4,
 "nbformat_minor": 5
}
